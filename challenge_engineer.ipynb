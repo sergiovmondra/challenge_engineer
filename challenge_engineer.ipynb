{
  "nbformat": 4,
  "nbformat_minor": 0,
  "metadata": {
    "colab": {
      "provenance": []
    },
    "kernelspec": {
      "name": "python3",
      "display_name": "Python 3"
    },
    "language_info": {
      "name": "python"
    }
  },
  "cells": [
    {
      "cell_type": "code",
      "execution_count": 32,
      "metadata": {
        "colab": {
          "base_uri": "https://localhost:8080/"
        },
        "id": "EtJmfHzn-glf",
        "outputId": "00865646-2fee-498d-e12d-8fad7544cff2"
      },
      "outputs": [
        {
          "output_type": "stream",
          "name": "stdout",
          "text": [
            "totalcontestadas:  24 punto 2\n",
            "totalNocontestadas:  6 punto 2\n",
            "menor_vistas:  7 punto 3\n",
            "respuesta_vieja:  1224107747 punto 4\n",
            "respuesta_actual:  1692832687 punto 4\n",
            "mayor_reputacion:  50091 punto 5\n"
          ]
        }
      ],
      "source": [
        "#1. Conectarse al enlace\n",
        "import pandas as pd\n",
        "import requests\n",
        "\n",
        "url =\"https://api.stackexchange.com/2.2/search?order=desc&sort=activity&intitle=perl&site=stackoverflow\"\n",
        "req = requests.get(url)\n",
        "obj_json =req.json()\n",
        "\n",
        "df = pd.json_normalize(obj_json['items'])\n",
        "df\n",
        "\n",
        "#En cada punto se hizo un filtro para guardar la informacion deseada\n",
        "#la cual despues se le asigno a una variable para hacer el punto 6\n",
        "\n",
        "#2. Obtener el número de respuestas contestadas\n",
        "contestadas = df[ \"is_answered\" ] == True\n",
        "contestadas = df [contestadas]\n",
        "totalcontestadas= contestadas[ \"is_answered\" ].count()\n",
        "totalcontestadas\n",
        "\n",
        "#2. Obtener el número de respuestas no contestadas\n",
        "Nocontestadas = df[ \"is_answered\" ] == False\n",
        "Nocontestadas = df [Nocontestadas]\n",
        "totalNocontestadas = Nocontestadas [ \"is_answered\" ].count()\n",
        "totalNocontestadas\n",
        "\n",
        "#3. Obtener la respuesta con menor número de vistas\n",
        "menor_vistas = df[\"view_count\"].min()\n",
        "menor_vistas\n",
        "\n",
        "#4. Obtener la respuesta más vieja y más actual\n",
        "respuesta_vieja =df[\"creation_date\"].min()\n",
        "respuesta_vieja\n",
        "\n",
        "respuesta_actual = df[\"creation_date\"].max()\n",
        "respuesta_actual\n",
        "\n",
        "#5. Obtener la respuesta del owner que tenga una mayor reputación\n",
        "mayor_reputacion = df[\"owner.reputation\"].max()\n",
        "mayor_reputacion\n",
        "\n",
        "#6. Imprimir en consola del punto 2 al 5\n",
        "print(\"totalcontestadas: \", totalcontestadas, \"punto 2\")\n",
        "print(\"totalNocontestadas: \", totalNocontestadas, \"punto 2\")\n",
        "\n",
        "print(\"menor_vistas: \", menor_vistas, \"punto 3\")\n",
        "\n",
        "print(\"respuesta_vieja: \", respuesta_vieja, \"punto 4\")\n",
        "print(\"respuesta_actual: \", respuesta_actual, \"punto 4\")\n",
        "\n",
        "print(\"mayor_reputacion: \", mayor_reputacion, \"punto 5\")\n"
      ]
    }
  ]
}